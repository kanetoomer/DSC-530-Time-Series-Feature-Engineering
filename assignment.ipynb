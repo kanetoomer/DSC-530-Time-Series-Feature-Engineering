{
 "cells": [
  {
   "metadata": {
    "ExecuteTime": {
     "end_time": "2024-09-25T21:33:42.088408Z",
     "start_time": "2024-09-25T21:33:42.080365Z"
    }
   },
   "cell_type": "code",
   "source": [
    "import numpy as np\n",
    "import pandas as pd"
   ],
   "id": "fbc121e30a2defb3",
   "outputs": [],
   "execution_count": 10
  },
  {
   "metadata": {
    "ExecuteTime": {
     "end_time": "2024-09-25T21:33:42.152863Z",
     "start_time": "2024-09-25T21:33:42.093919Z"
    }
   },
   "cell_type": "code",
   "source": [
    "file_path = 'data/AirQualityUCI.csv'\n",
    "df = pd.read_csv(file_path, delimiter=';')"
   ],
   "id": "fb1d7b9231a53e4a",
   "outputs": [],
   "execution_count": 11
  },
  {
   "metadata": {
    "ExecuteTime": {
     "end_time": "2024-09-25T21:33:42.246285Z",
     "start_time": "2024-09-25T21:33:42.158405Z"
    }
   },
   "cell_type": "code",
   "source": [
    "df.columns = df.columns.str.strip(' ;')\n",
    "df['Time'] = df['Time'].str.replace('.', ':')\n",
    "df['datetime'] = pd.to_datetime(df['Date'] + ' ' + df['Time'], dayfirst=True)\n",
    "df.set_index('datetime', inplace=True)"
   ],
   "id": "517af5cf9e065300",
   "outputs": [],
   "execution_count": 12
  },
  {
   "metadata": {
    "ExecuteTime": {
     "end_time": "2024-09-25T21:33:42.284461Z",
     "start_time": "2024-09-25T21:33:42.250084Z"
    }
   },
   "cell_type": "code",
   "source": [
    "df['CO(GT)'] = df['CO(GT)'].str.replace(',', '.')\n",
    "df['CO(GT)'] = pd.to_numeric(df['CO(GT)'], errors='coerce')\n",
    "df['CO(GT)'] = df['CO(GT)'].replace([np.inf, -np.inf], np.nan)\n",
    "df['CO(GT)'] = df['CO(GT)'].ffill().bfill()"
   ],
   "id": "1970a97cc55a92c2",
   "outputs": [],
   "execution_count": 13
  },
  {
   "metadata": {
    "ExecuteTime": {
     "end_time": "2024-09-25T21:33:42.324485Z",
     "start_time": "2024-09-25T21:33:42.287272Z"
    }
   },
   "cell_type": "code",
   "source": [
    "# 1. Feature Extraction: Year, Month, Day feature\n",
    "df['Year'] = df.index.year\n",
    "df['Month'] = df.index.month\n",
    "df['Day'] = df.index.day\n",
    "\n",
    "print(\"Year, Month, Day features:\")\n",
    "print(df[['Year', 'Month', 'Day']].head())"
   ],
   "id": "8ec520c1388fffd1",
   "outputs": [
    {
     "name": "stdout",
     "output_type": "stream",
     "text": [
      "Year, Month, Day features:\n",
      "                       Year  Month   Day\n",
      "datetime                                \n",
      "2004-03-10 18:00:00  2004.0    3.0  10.0\n",
      "2004-03-10 19:00:00  2004.0    3.0  10.0\n",
      "2004-03-10 20:00:00  2004.0    3.0  10.0\n",
      "2004-03-10 21:00:00  2004.0    3.0  10.0\n",
      "2004-03-10 22:00:00  2004.0    3.0  10.0\n"
     ]
    }
   ],
   "execution_count": 14
  },
  {
   "metadata": {
    "ExecuteTime": {
     "end_time": "2024-09-25T21:33:42.367314Z",
     "start_time": "2024-09-25T21:33:42.336074Z"
    }
   },
   "cell_type": "code",
   "source": [
    "# 2. Feature Extraction: Lag features (same day last week, last month, last year)\n",
    "df['SameDayLastWeek'] = df['CO(GT)'].shift(7)   \n",
    "df['SameDayLastMonth'] = df['CO(GT)'].shift(30)  \n",
    "df['SameDayLastYear'] = df['CO(GT)'].shift(365)  \n",
    "\n",
    "print(\"\\nLag features:\")\n",
    "print(df[['CO(GT)', 'SameDayLastWeek', 'SameDayLastMonth', 'SameDayLastYear']].head(15))"
   ],
   "id": "edd6f26bc88ebbee",
   "outputs": [
    {
     "name": "stdout",
     "output_type": "stream",
     "text": [
      "\n",
      "Lag features:\n",
      "                     CO(GT)  SameDayLastWeek  SameDayLastMonth  \\\n",
      "datetime                                                         \n",
      "2004-03-10 18:00:00     2.6              NaN               NaN   \n",
      "2004-03-10 19:00:00     2.0              NaN               NaN   \n",
      "2004-03-10 20:00:00     2.2              NaN               NaN   \n",
      "2004-03-10 21:00:00     2.2              NaN               NaN   \n",
      "2004-03-10 22:00:00     1.6              NaN               NaN   \n",
      "2004-03-10 23:00:00     1.2              NaN               NaN   \n",
      "2004-03-11 00:00:00     1.2              NaN               NaN   \n",
      "2004-03-11 01:00:00     1.0              2.6               NaN   \n",
      "2004-03-11 02:00:00     0.9              2.0               NaN   \n",
      "2004-03-11 03:00:00     0.6              2.2               NaN   \n",
      "2004-03-11 04:00:00  -200.0              2.2               NaN   \n",
      "2004-03-11 05:00:00     0.7              1.6               NaN   \n",
      "2004-03-11 06:00:00     0.7              1.2               NaN   \n",
      "2004-03-11 07:00:00     1.1              1.2               NaN   \n",
      "2004-03-11 08:00:00     2.0              1.0               NaN   \n",
      "\n",
      "                     SameDayLastYear  \n",
      "datetime                              \n",
      "2004-03-10 18:00:00              NaN  \n",
      "2004-03-10 19:00:00              NaN  \n",
      "2004-03-10 20:00:00              NaN  \n",
      "2004-03-10 21:00:00              NaN  \n",
      "2004-03-10 22:00:00              NaN  \n",
      "2004-03-10 23:00:00              NaN  \n",
      "2004-03-11 00:00:00              NaN  \n",
      "2004-03-11 01:00:00              NaN  \n",
      "2004-03-11 02:00:00              NaN  \n",
      "2004-03-11 03:00:00              NaN  \n",
      "2004-03-11 04:00:00              NaN  \n",
      "2004-03-11 05:00:00              NaN  \n",
      "2004-03-11 06:00:00              NaN  \n",
      "2004-03-11 07:00:00              NaN  \n",
      "2004-03-11 08:00:00              NaN  \n"
     ]
    }
   ],
   "execution_count": 15
  },
  {
   "metadata": {
    "ExecuteTime": {
     "end_time": "2024-09-25T21:33:42.393586Z",
     "start_time": "2024-09-25T21:33:42.370102Z"
    }
   },
   "cell_type": "code",
   "source": [
    "# 3. Feature Extraction: 2-month rolling average\n",
    "df['2MonthRollingAvg'] = df['CO(GT)'].rolling(window=60).mean()  \n",
    "\n",
    "print(\"\\n2-month rolling average:\")\n",
    "print(df[['CO(GT)', '2MonthRollingAvg']].head(15))"
   ],
   "id": "47e0d7a59da61d3",
   "outputs": [
    {
     "name": "stdout",
     "output_type": "stream",
     "text": [
      "\n",
      "2-month rolling average:\n",
      "                     CO(GT)  2MonthRollingAvg\n",
      "datetime                                     \n",
      "2004-03-10 18:00:00     2.6               NaN\n",
      "2004-03-10 19:00:00     2.0               NaN\n",
      "2004-03-10 20:00:00     2.2               NaN\n",
      "2004-03-10 21:00:00     2.2               NaN\n",
      "2004-03-10 22:00:00     1.6               NaN\n",
      "2004-03-10 23:00:00     1.2               NaN\n",
      "2004-03-11 00:00:00     1.2               NaN\n",
      "2004-03-11 01:00:00     1.0               NaN\n",
      "2004-03-11 02:00:00     0.9               NaN\n",
      "2004-03-11 03:00:00     0.6               NaN\n",
      "2004-03-11 04:00:00  -200.0               NaN\n",
      "2004-03-11 05:00:00     0.7               NaN\n",
      "2004-03-11 06:00:00     0.7               NaN\n",
      "2004-03-11 07:00:00     1.1               NaN\n",
      "2004-03-11 08:00:00     2.0               NaN\n"
     ]
    }
   ],
   "execution_count": 16
  },
  {
   "metadata": {
    "ExecuteTime": {
     "end_time": "2024-09-25T21:33:42.418285Z",
     "start_time": "2024-09-25T21:33:42.397633Z"
    }
   },
   "cell_type": "code",
   "source": [
    "# 4. Feature Extraction: Expanding maximum value till date\n",
    "df['ExpandingMax'] = df['CO(GT)'].expanding().max()\n",
    "\n",
    "print(\"\\nExpanding maximum value till date:\")\n",
    "print(df[['CO(GT)', 'ExpandingMax']].head(15))"
   ],
   "id": "70782bb53f67210a",
   "outputs": [
    {
     "name": "stdout",
     "output_type": "stream",
     "text": [
      "\n",
      "Expanding maximum value till date:\n",
      "                     CO(GT)  ExpandingMax\n",
      "datetime                                 \n",
      "2004-03-10 18:00:00     2.6           2.6\n",
      "2004-03-10 19:00:00     2.0           2.6\n",
      "2004-03-10 20:00:00     2.2           2.6\n",
      "2004-03-10 21:00:00     2.2           2.6\n",
      "2004-03-10 22:00:00     1.6           2.6\n",
      "2004-03-10 23:00:00     1.2           2.6\n",
      "2004-03-11 00:00:00     1.2           2.6\n",
      "2004-03-11 01:00:00     1.0           2.6\n",
      "2004-03-11 02:00:00     0.9           2.6\n",
      "2004-03-11 03:00:00     0.6           2.6\n",
      "2004-03-11 04:00:00  -200.0           2.6\n",
      "2004-03-11 05:00:00     0.7           2.6\n",
      "2004-03-11 06:00:00     0.7           2.6\n",
      "2004-03-11 07:00:00     1.1           2.6\n",
      "2004-03-11 08:00:00     2.0           2.6\n"
     ]
    }
   ],
   "execution_count": 17
  },
  {
   "metadata": {
    "ExecuteTime": {
     "end_time": "2024-09-25T21:33:42.467074Z",
     "start_time": "2024-09-25T21:33:42.422332Z"
    }
   },
   "cell_type": "code",
   "source": [
    "# 5. Feature Extraction: Quarterly data using the resample function\n",
    "df['Q'] = df['CO(GT)'].resample('Q').mean()\n",
    "\n",
    "print(\"\\nQuarterly mean of CO(GT):\")\n",
    "print(df['Q'].head())"
   ],
   "id": "89916785e6cc5368",
   "outputs": [
    {
     "name": "stdout",
     "output_type": "stream",
     "text": [
      "\n",
      "Quarterly mean of CO(GT):\n",
      "datetime\n",
      "2004-03-10 18:00:00   NaN\n",
      "2004-03-10 19:00:00   NaN\n",
      "2004-03-10 20:00:00   NaN\n",
      "2004-03-10 21:00:00   NaN\n",
      "2004-03-10 22:00:00   NaN\n",
      "Name: Q, dtype: float64\n"
     ]
    },
    {
     "name": "stderr",
     "output_type": "stream",
     "text": [
      "/var/folders/lg/zjtzqdq15v77l_2rk_z7jhwh0000gn/T/ipykernel_83563/3670947370.py:2: FutureWarning: 'Q' is deprecated and will be removed in a future version, please use 'QE' instead.\n",
      "  df['Q'] = df['CO(GT)'].resample('Q').mean()\n"
     ]
    }
   ],
   "execution_count": 18
  },
  {
   "metadata": {
    "ExecuteTime": {
     "end_time": "2024-09-25T21:33:42.487037Z",
     "start_time": "2024-09-25T21:33:42.469488Z"
    }
   },
   "cell_type": "code",
   "source": [
    "# 6. Feature Extraction: Yearly data using the resample function\n",
    "df['Yearly'] = df['CO(GT)'].resample('Y').mean()\n",
    "\n",
    "print(\"\\nYearly mean of CO(GT):\")\n",
    "print(df['Yearly'].head())"
   ],
   "id": "1bac172068253b1c",
   "outputs": [
    {
     "name": "stdout",
     "output_type": "stream",
     "text": [
      "\n",
      "Yearly mean of CO(GT):\n",
      "datetime\n",
      "2004-03-10 18:00:00   NaN\n",
      "2004-03-10 19:00:00   NaN\n",
      "2004-03-10 20:00:00   NaN\n",
      "2004-03-10 21:00:00   NaN\n",
      "2004-03-10 22:00:00   NaN\n",
      "Name: Yearly, dtype: float64\n"
     ]
    },
    {
     "name": "stderr",
     "output_type": "stream",
     "text": [
      "/var/folders/lg/zjtzqdq15v77l_2rk_z7jhwh0000gn/T/ipykernel_83563/470504260.py:2: FutureWarning: 'Y' is deprecated and will be removed in a future version, please use 'YE' instead.\n",
      "  df['Yearly'] = df['CO(GT)'].resample('Y').mean()\n"
     ]
    }
   ],
   "execution_count": 19
  }
 ],
 "metadata": {
  "kernelspec": {
   "display_name": "Python 3",
   "language": "python",
   "name": "python3"
  },
  "language_info": {
   "codemirror_mode": {
    "name": "ipython",
    "version": 2
   },
   "file_extension": ".py",
   "mimetype": "text/x-python",
   "name": "python",
   "nbconvert_exporter": "python",
   "pygments_lexer": "ipython2",
   "version": "2.7.6"
  }
 },
 "nbformat": 4,
 "nbformat_minor": 5
}
